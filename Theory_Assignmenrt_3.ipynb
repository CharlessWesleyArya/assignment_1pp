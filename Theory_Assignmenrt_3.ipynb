{
 "cells": [
  {
   "cell_type": "markdown",
   "metadata": {},
   "source": [
    "# Assignment-3\n",
    "\n",
    "1.)\n",
    "* Major use of Python Functions are REUSABILITY.\n",
    "\n",
    "* while using fucntions we will divide code and make it to small pieces to make the work simple and easy understanding.\n",
    "\n",
    "* we can reduce the duplicate code by using the existing data in functions as many times we want.\n",
    "\n",
    "* Modifying the program becomes easier.\n"
   ]
  },
  {
   "cell_type": "markdown",
   "metadata": {},
   "source": [
    " 2.) the code will run when it is called, not when it is specified."
   ]
  },
  {
   "cell_type": "markdown",
   "metadata": {},
   "source": [
    "3.)\"def\" is used to create a function.\"def\" keyword means defining a function with name and finally \"():\". this full will create a function.\n",
    "\n",
    "Example:\n",
    "        def fun_name():"
   ]
  },
  {
   "cell_type": "markdown",
   "metadata": {},
   "source": [
    "4.)\n",
    "Function: means defining a function which means we will write the statements that what we want to do with that function, what is the work we have to create a function.\n",
    "* Function will not run when we define \n",
    "\n",
    "function call: means when we want to do the work for what we have written the function, than we will call the function . Than the function will run and gives the result according to the statements we have written\n",
    "* Function will run when we call it."
   ]
  },
  {
   "cell_type": "markdown",
   "metadata": {},
   "source": [
    " "
   ]
  },
  {
   "cell_type": "markdown",
   "metadata": {},
   "source": [
    "5.)\n",
    "Global: There is only one global scope in python. purpose of global scope is to use the variables from any where in the package or from outside of the package.\n",
    "\n",
    "Local: these can be accesed only within the class and not available outside of the class."
   ]
  },
  {
   "cell_type": "markdown",
   "metadata": {},
   "source": [
    "6.)For the local variables lifetime will be only when the function executes ,once the function execution is completed than the values or memory allocated to the variable will be deallocated. the last statement will be return ,so after return statement the variables will be deallocated."
   ]
  },
  {
   "cell_type": "markdown",
   "metadata": {},
   "source": [
    "7.)the return value concept is used to transfer data from one function to other function or other statements in the program. so we can use that data when we want.\n",
    "    It is possible to have return value in expression"
   ]
  },
  {
   "cell_type": "markdown",
   "metadata": {},
   "source": [
    "8.)default there will be NONE returned from the function , if we explictly want to give return than we can give expression or a value to return.\n",
    "    "
   ]
  },
  {
   "cell_type": "markdown",
   "metadata": {},
   "source": [
    "9.)If a variable is assigned a value anywhere within the function's body, it's assumed to be a local unless explicitly declared as global. We Use global keyword to use a global variable inside a function"
   ]
  },
  {
   "cell_type": "markdown",
   "metadata": {},
   "source": [
    "10.) None is the datatype for None values."
   ]
  },
  {
   "cell_type": "markdown",
   "metadata": {},
   "source": [
    "11.)The sentence import areallyourpetsnamederic will import all the classes and functions in the above module."
   ]
  },
  {
   "cell_type": "markdown",
   "metadata": {},
   "source": [
    "12.)spam.bacon()"
   ]
  },
  {
   "cell_type": "markdown",
   "metadata": {},
   "source": [
    "13.)According to the error i'll try to handle if the error is of type Run-time. if it is Syntax error than we must and should write code in the correct syntax in order to run the code as error free."
   ]
  },
  {
   "cell_type": "markdown",
   "metadata": {},
   "source": [
    "14.)try: try clause is used to write the code that which we have doubt of getting error. and here we have to mention what type of error we is going to come\n",
    "\n",
    "except: This excet clause is used to take the exception given or came from the try block(which we generally say as exception object from try clause)."
   ]
  },
  {
   "cell_type": "code",
   "execution_count": null,
   "metadata": {},
   "outputs": [],
   "source": []
  }
 ],
 "metadata": {
  "kernelspec": {
   "display_name": "Python 3",
   "language": "python",
   "name": "python3"
  },
  "language_info": {
   "codemirror_mode": {
    "name": "ipython",
    "version": 3
   },
   "file_extension": ".py",
   "mimetype": "text/x-python",
   "name": "python",
   "nbconvert_exporter": "python",
   "pygments_lexer": "ipython3",
   "version": "3.8.5"
  }
 },
 "nbformat": 4,
 "nbformat_minor": 4
}
