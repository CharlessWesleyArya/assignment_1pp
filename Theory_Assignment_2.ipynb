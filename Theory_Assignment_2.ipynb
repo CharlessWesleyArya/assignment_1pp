{
 "cells": [
  {
   "attachments": {},
   "cell_type": "markdown",
   "metadata": {},
   "source": [
    "Assigment-2\n",
    "-----------------\n",
    "\n",
    "1.)Two values of Boolean Data type values are True and Flase\n",
    "we are supposed to give them like,\n",
    "a=True\n",
    "b=False\n",
    "because these are values of a Boolean data type, so as a value we can give them.\n",
    "\n",
    "\n",
    "2.)Three different types of Boolean operators are \n",
    "\n",
    "    i.) and (&)\n",
    "\n",
    "    ii.) or (|)\n",
    "\n",
    "    iii.)not \n",
    "\n"
   ]
  },
  {
   "cell_type": "markdown",
   "metadata": {},
   "source": [
    "3.)![Picture%201.png](attachment:Picture%201.png)"
   ]
  },
  {
   "cell_type": "markdown",
   "metadata": {},
   "source": [
    "4.)(5 > 4) and (3 == 5) -> False.\n",
    "\n",
    "not (5 > 4) -> False.\n",
    "\n",
    "(5 > 4) or (3 == 5) -> True.\n",
    "\n",
    "not ((5 > 4) or (3 == 5))-> False.\n",
    "\n",
    "(True and True) and (True == False) -> False.\n",
    "\n",
    "(not False) or (not True) -> True.\n",
    "\n",
    "\n",
    "5.)Six Comparison Operators:\n",
    "\n",
    "    i.)> (greater than )\n",
    "    \n",
    "    ii.) < (Lessthan)\n",
    "    \n",
    "    iii.)>= (Greaterthan or equal to )\n",
    "    \n",
    "    iv.) <= (Lessthan or Equal to)\n",
    "    \n",
    "    v.) != (not Equal to)\n",
    "    \n",
    "    vi.) == (equal to)\n",
    "    \n",
    "    \n",
    "6.) The difference between = and == is, \n",
    "\n",
    "    if we give '=' this is known as Assignment Operator which means this will assign a value to  some variables .\n",
    "    and if we give '==' this is know as Equal to operator which comes under comparison operator helps to find the given two values are equal or not.\n",
    "    \n",
    "    if we want to assign a value than we must go with '='.\n",
    "    if we want to check any two values are equal or not than we must go with '=='.\n",
    "    \n",
    "    \n",
    "7.) \n",
    "#first block\n",
    "if spam == 10:\n",
    "    print('eggs')\n",
    "    \n",
    "#this is second block\n",
    "\n",
    "if spam &gt; 5:\n",
    "print('bacon')\n",
    "\n",
    "#third Block\n",
    "\n",
    "else:\n",
    "    print('ham')\n",
    "    print('spam')\n",
    "    print('spam')"
   ]
  },
  {
   "cell_type": "code",
   "execution_count": 5,
   "metadata": {},
   "outputs": [
    {
     "name": "stdout",
     "output_type": "stream",
     "text": [
      "enter any number:1\n",
      "Hello\n"
     ]
    }
   ],
   "source": [
    "#8.)\n",
    "spam=int(input(\"enter any number:\"))\n",
    "if spam==1:\n",
    "    print(\"Hello\")\n",
    "elif spam==2:\n",
    "    print(\"Howdy\")\n",
    "else:\n",
    "    print(\"Greetings!\")"
   ]
  },
  {
   "cell_type": "markdown",
   "metadata": {},
   "source": [
    "9.)In Terminal ill use CTRL+C, but in Jupyter notebook i will try to stop the kernel or just close the browser (or) close that particular tab to stop infinity loops.\n",
    "\n",
    "10.)\n",
    "    break is used to stop the loop means it stops remaining iterations of the loop but continue will just skips the current iteration and continues from the next iteration.\n",
    "    \n",
    "11.)As per output we dont see any difference in the given types of range function ,but as per execution there are few points that are\n",
    "\n",
    "    range(10) -> if we give like this,than the given value of is taken as stop point ,because the starting point is taken by default as o ,if we dont give any value.\n",
    "    \n",
    "    range(0,10)-> here we are giving the start and end point of the range function. \n",
    "    \n",
    "    range(0,10,1) -> here we are giving the step -size as one, but by default it is taken as 1 ,so we dont get any change from the output compared to the above two functions.\n",
    "    \n",
    "    note: step-size and starting point are optional as per requirment ,but end point is required.\n",
    "    \n",
    "    \n"
   ]
  },
  {
   "cell_type": "code",
   "execution_count": 10,
   "metadata": {},
   "outputs": [
    {
     "name": "stdout",
     "output_type": "stream",
     "text": [
      "1\n",
      "2\n",
      "3\n",
      "4\n",
      "5\n",
      "6\n",
      "7\n",
      "8\n",
      "9\n",
      "10\n",
      "1\n",
      "2\n",
      "3\n",
      "4\n",
      "5\n",
      "6\n",
      "7\n",
      "8\n",
      "9\n",
      "10\n"
     ]
    }
   ],
   "source": [
    "#12.)\n",
    "#using for loop\n",
    "for i in range(1,11):\n",
    "    print(i)\n",
    "#using while loop\n",
    "i=1\n",
    "while(True):\n",
    "    if i< 11:\n",
    "        print(i)\n",
    "        i=i+1\n",
    "    else:\n",
    "        break"
   ]
  },
  {
   "cell_type": "markdown",
   "metadata": {},
   "source": [
    "13.) we can it  like,\n",
    "    spam.bacon()"
   ]
  }
 ],
 "metadata": {
  "kernelspec": {
   "display_name": "Python 3",
   "language": "python",
   "name": "python3"
  },
  "language_info": {
   "codemirror_mode": {
    "name": "ipython",
    "version": 3
   },
   "file_extension": ".py",
   "mimetype": "text/x-python",
   "name": "python",
   "nbconvert_exporter": "python",
   "pygments_lexer": "ipython3",
   "version": "3.8.5"
  }
 },
 "nbformat": 4,
 "nbformat_minor": 4
}
