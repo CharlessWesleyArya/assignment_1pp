{
 "cells": [
  {
   "cell_type": "code",
   "execution_count": 1,
   "metadata": {},
   "outputs": [
    {
     "name": "stdout",
     "output_type": "stream",
     "text": [
      "Enter number of Kilometers :10\n",
      "6.213699999999999\n"
     ]
    }
   ],
   "source": [
    "#1.) how to change kilometers into miles\n",
    "\n",
    "kilometers=int(input(\"Enter number of Kilometers :\"))\n",
    "miles =kilometers*0.62137\n",
    "print(miles)"
   ]
  },
  {
   "cell_type": "code",
   "execution_count": 7,
   "metadata": {},
   "outputs": [
    {
     "name": "stdout",
     "output_type": "stream",
     "text": [
      "Enter celsius value:30\n",
      "86.0 ° F\n"
     ]
    }
   ],
   "source": [
    "#2.) convert Celsius to Fahrenheit\n",
    "celsius=int(input(\"Enter celsius value:\"))\n",
    "fhrn=(celsius*1.8)+32\n",
    "print(fhrn,\"\\N{DEGREE SIGN} F\")"
   ]
  },
  {
   "cell_type": "code",
   "execution_count": 15,
   "metadata": {},
   "outputs": [
    {
     "name": "stdout",
     "output_type": "stream",
     "text": [
      "enter year:2021\n",
      "enter month:03\n",
      "\n",
      "\n",
      "      March 2021\n",
      "Mo Tu We Th Fr Sa Su\n",
      " 1  2  3  4  5  6  7\n",
      " 8  9 10 11 12 13 14\n",
      "15 16 17 18 19 20 21\n",
      "22 23 24 25 26 27 28\n",
      "29 30 31\n",
      "\n"
     ]
    }
   ],
   "source": [
    "#3.) display calender\n",
    "import calendar\n",
    "\n",
    "yy=int(input(\"enter year:\"))\n",
    "mm=int(input(\"enter month:\"))\n",
    "\n",
    "if mm>12:\n",
    "    print(\"Enter valid month\")\n",
    "else:\n",
    "    print(\"\\n\\n\",calendar.month(yy,mm))"
   ]
  },
  {
   "cell_type": "code",
   "execution_count": 10,
   "metadata": {},
   "outputs": [
    {
     "name": "stdout",
     "output_type": "stream",
     "text": [
      "enter value in a:77\n",
      "enter value in b:15\n",
      "enter value in c:-30\n",
      "The solution are (0.5343391659716171+0j) and (-0.729144360776812+0j)\n"
     ]
    }
   ],
   "source": [
    "#4.)Solve Quadratic equation\n",
    "import cmath\n",
    "a=int(input(\"enter value in a:\"))\n",
    "b=int(input(\"enter value in b:\"))\n",
    "c=int(input(\"enter value in c:\"))\n",
    "#first we are dong root of b square -4ac\n",
    "r=(b**2) - (4*a*c)\n",
    "#after this we are finding x to do a*x square +bx+c=0\n",
    "sqr=cmath.sqrt(r)\n",
    "\n",
    "ans1=(-b + sqr)/(2*a)\n",
    "ans2=(-b - sqr)/(2*a)\n",
    "print('The solution are {0} and {1}'.format(ans1,ans2))"
   ]
  },
  {
   "cell_type": "code",
   "execution_count": 12,
   "metadata": {},
   "outputs": [
    {
     "name": "stdout",
     "output_type": "stream",
     "text": [
      "Enter first Number: 10\n",
      "Enter Second Number:0\n",
      "First number after swapping : 0\n",
      "Seconf Number after Swapping : 10\n"
     ]
    }
   ],
   "source": [
    "#5.) Swap two numbers without Temp variable.\n",
    "one=int(input(\"Enter first Number: \"))\n",
    "two=int(input(\"Enter Second Number:\"))\n",
    "one=one+two #10+20=30\n",
    "two=one-two #30-20=10\n",
    "one=one-two #30-10=20\n",
    "print(\"First number after swapping :\",one)\n",
    "print(\"Seconf Number after Swapping :\",two)"
   ]
  },
  {
   "cell_type": "code",
   "execution_count": null,
   "metadata": {},
   "outputs": [],
   "source": []
  }
 ],
 "metadata": {
  "kernelspec": {
   "display_name": "Python 3",
   "language": "python",
   "name": "python3"
  },
  "language_info": {
   "codemirror_mode": {
    "name": "ipython",
    "version": 3
   },
   "file_extension": ".py",
   "mimetype": "text/x-python",
   "name": "python",
   "nbconvert_exporter": "python",
   "pygments_lexer": "ipython3",
   "version": "3.8.5"
  }
 },
 "nbformat": 4,
 "nbformat_minor": 4
}
