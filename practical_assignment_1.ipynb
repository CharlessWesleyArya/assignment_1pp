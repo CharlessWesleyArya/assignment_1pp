{
 "cells": [
  {
   "cell_type": "code",
   "execution_count": 18,
   "metadata": {},
   "outputs": [
    {
     "name": "stdout",
     "output_type": "stream",
     "text": [
      "Hello Python\n",
      "Hello Python\n",
      "addition of two numbers is : 60\n",
      "Division of two numbers is : 5.0\n",
      "25.0\n"
     ]
    }
   ],
   "source": [
    "#1.Program to print hello Python\n",
    "\n",
    "print(\"Hello Python\")\n",
    "\n",
    "#or\n",
    "s=\"Hello Python\"\n",
    "print(s)\n",
    "\n"
   ]
  },
  {
   "cell_type": "code",
   "execution_count": 21,
   "metadata": {},
   "outputs": [
    {
     "name": "stdout",
     "output_type": "stream",
     "text": [
      "addition of two numbers is : 60\n",
      "Division of two numbers is : 5.0\n"
     ]
    }
   ],
   "source": [
    "#2.Arithmatical Operations addition and division\n",
    "\n",
    "x=50\n",
    "y=10\n",
    "addition=x+y\n",
    "division=x/y\n",
    "print(\"addition of two numbers is :\",addition)\n",
    "print(\"Division of two numbers is :\",division)"
   ]
  },
  {
   "cell_type": "code",
   "execution_count": 22,
   "metadata": {},
   "outputs": [
    {
     "name": "stdout",
     "output_type": "stream",
     "text": [
      "enter p number:30\n",
      "enter q number:50\n",
      "enter r number:35\n",
      "57.5\n",
      "area of triangle: 516.5616492733467\n"
     ]
    }
   ],
   "source": [
    "# 3. Area of triangle.\n",
    "import math\n",
    "p=float(input(\"enter p number:\"))\n",
    "q=float(input(\"enter q number:\"))\n",
    "r=float(input('enter r number:'))\n",
    "ss=(p+q+r)/2\n",
    "print(ss)\n",
    "sr=0.0\n",
    "sr=(ss*(ss-p)*(ss-q)*(ss-r))\n",
    "area=math.sqrt(sr)\n",
    "print(\"area of triangle:\",area)"
   ]
  },
  {
   "cell_type": "code",
   "execution_count": 27,
   "metadata": {},
   "outputs": [
    {
     "name": "stdout",
     "output_type": "stream",
     "text": [
      "enter first number:23\n",
      "Enter second number:45\n",
      "\n",
      "first number after swapping: 45\n",
      "second number after swapping: 23\n"
     ]
    }
   ],
   "source": [
    "#4. Swap two variables\n",
    "one=int(input(\"enter first number:\"))\n",
    "two=int(input(\"Enter second number:\"))\n",
    "temp=0\n",
    "temp=one\n",
    "one=two\n",
    "two=temp\n",
    "print(\"\\nfirst number after swapping:\",one)\n",
    "print(\"second number after swapping:\",two)\n"
   ]
  },
  {
   "cell_type": "code",
   "execution_count": 8,
   "metadata": {},
   "outputs": [
    {
     "name": "stdout",
     "output_type": "stream",
     "text": [
      "93\n"
     ]
    }
   ],
   "source": [
    "#5. Generate Random Number.\n",
    "from random import randrange\n",
    "print(randrange(100))"
   ]
  }
 ],
 "metadata": {
  "kernelspec": {
   "display_name": "Python 3",
   "language": "python",
   "name": "python3"
  },
  "language_info": {
   "codemirror_mode": {
    "name": "ipython",
    "version": 3
   },
   "file_extension": ".py",
   "mimetype": "text/x-python",
   "name": "python",
   "nbconvert_exporter": "python",
   "pygments_lexer": "ipython3",
   "version": "3.8.5"
  }
 },
 "nbformat": 4,
 "nbformat_minor": 4
}
